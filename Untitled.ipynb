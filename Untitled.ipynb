{
 "cells": [
  {
   "cell_type": "code",
   "execution_count": 1,
   "metadata": {},
   "outputs": [
    {
     "name": "stdout",
     "output_type": "stream",
     "text": [
      "Please provide Input directory: peida\n",
      "Please provide Input directory: peida\n"
     ]
    }
   ],
   "source": [
    "from Pipeline import Pipeline\n",
    "tra=Pipeline()\n"
   ]
  },
  {
   "cell_type": "code",
   "execution_count": 2,
   "metadata": {},
   "outputs": [],
   "source": [
    "tra.syn_ant()\n",
    "tra.run()"
   ]
  },
  {
   "cell_type": "code",
   "execution_count": 4,
   "metadata": {
    "scrolled": true
   },
   "outputs": [],
   "source": [
    "tra.pipeline=[]\n",
    "tra.random_typo(1)\n",
    "tra.run()"
   ]
  },
  {
   "cell_type": "code",
   "execution_count": 5,
   "metadata": {},
   "outputs": [],
   "source": [
    "for i in range(10):\n",
    "    tra.random_operations()\n",
    "tra.run()"
   ]
  },
  {
   "cell_type": "code",
   "execution_count": 6,
   "metadata": {},
   "outputs": [
    {
     "data": {
      "text/plain": [
       "[<Operations.RandomTypo at 0x21bc2fed448>,\n",
       " <Operations.syn_checker at 0x21bc316a8c8>,\n",
       " <Operations.RandomTypo at 0x21bc316a748>,\n",
       " <Operations.LetterFlip at 0x21bc316a588>,\n",
       " <Operations.DoubleLetter at 0x21bc316a908>,\n",
       " <Operations.syn_checker at 0x21bc316ac08>,\n",
       " <Operations.SpaceInserter at 0x21bc316a648>,\n",
       " <Operations.SpaceInserter at 0x21bc316adc8>,\n",
       " <Operations.LetterFlip at 0x21bc316ad08>,\n",
       " <Operations.RandomTypo at 0x21bc316ab88>,\n",
       " <Operations.SpaceInserter at 0x21bc316ae88>]"
      ]
     },
     "execution_count": 6,
     "metadata": {},
     "output_type": "execute_result"
    }
   ],
   "source": [
    "tra.pipeline"
   ]
  },
  {
   "cell_type": "code",
   "execution_count": null,
   "metadata": {},
   "outputs": [],
   "source": [
    "tra.lex['oida']\n",
    "tra.lex.add('oida')\n",
    "tra.lex['oida']"
   ]
  },
  {
   "cell_type": "code",
   "execution_count": null,
   "metadata": {},
   "outputs": [],
   "source": []
  }
 ],
 "metadata": {
  "kernelspec": {
   "display_name": "Python 3",
   "language": "python",
   "name": "python3"
  },
  "language_info": {
   "codemirror_mode": {
    "name": "ipython",
    "version": 3
   },
   "file_extension": ".py",
   "mimetype": "text/x-python",
   "name": "python",
   "nbconvert_exporter": "python",
   "pygments_lexer": "ipython3",
   "version": "3.7.9"
  }
 },
 "nbformat": 4,
 "nbformat_minor": 4
}
