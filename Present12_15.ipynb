{
 "cells": [
  {
   "cell_type": "markdown",
   "metadata": {},
   "source": [
    "## Augmentext Presentation 15.12.2020\n",
<<<<<<< Updated upstream
    "### Braun, Schmatz, Pasic, Avramidis FH. St.Pölten!\n",
=======
>>>>>>> Stashed changes
    "Die folgenden Code Chunks dienen zur demonstration der bisher implementierten Funktionalität der Text-Augmention Library Augmentext.\n"
   ]
  },
  {
   "cell_type": "markdown",
   "metadata": {},
   "source": [
    "### Einfache Integration\n",
    "Augmentext ist in seiner Handhabung nicht anders als andere Python Packages. Ein einfacher Import genügt"
   ]
  },
  {
   "cell_type": "code",
<<<<<<< Updated upstream
   "execution_count": null,
=======
   "execution_count": 1,
>>>>>>> Stashed changes
   "metadata": {},
   "outputs": [],
   "source": [
    "from Pipeline import *"
   ]
  },
  {
   "cell_type": "markdown",
   "metadata": {},
   "source": [
    "#### Pipes(files)\n",
    "Pipes ist die Interface oder API Class von Augmentext. Als Parameter akzeptiert diese String Variablen die als URLs für Ordner dienen die .txt Datein beinhalten. Falls im Angebenen Pfad keine txts vorhanden sind wird nach Alternativen gefragt."
   ]
  },
  {
   "cell_type": "code",
<<<<<<< Updated upstream
   "execution_count": null,
   "metadata": {},
   "outputs": [],
=======
   "execution_count": 2,
   "metadata": {},
   "outputs": [
    {
     "ename": "NameError",
     "evalue": "name 'Pipes' is not defined",
     "output_type": "error",
     "traceback": [
      "\u001b[1;31m---------------------------------------------------------------------------\u001b[0m",
      "\u001b[1;31mNameError\u001b[0m                                 Traceback (most recent call last)",
      "\u001b[1;32m<ipython-input-2-ac31eba979e0>\u001b[0m in \u001b[0;36m<module>\u001b[1;34m\u001b[0m\n\u001b[0;32m      1\u001b[0m \u001b[0mPfad\u001b[0m\u001b[1;33m=\u001b[0m\u001b[1;34m'Test'\u001b[0m\u001b[1;33m\u001b[0m\u001b[1;33m\u001b[0m\u001b[0m\n\u001b[1;32m----> 2\u001b[1;33m \u001b[0maugmentext\u001b[0m\u001b[1;33m=\u001b[0m\u001b[0mPipes\u001b[0m\u001b[1;33m(\u001b[0m\u001b[0mPfad\u001b[0m\u001b[1;33m)\u001b[0m\u001b[1;33m\u001b[0m\u001b[1;33m\u001b[0m\u001b[0m\n\u001b[0m",
      "\u001b[1;31mNameError\u001b[0m: name 'Pipes' is not defined"
     ]
    }
   ],
>>>>>>> Stashed changes
   "source": [
    "Pfad='Test'\n",
    "augmentext=Pipes(Pfad)"
   ]
  },
  {
   "cell_type": "markdown",
   "metadata": {},
   "source": [
    "## Der Text selbst\n",
    "#### augmentext.text\n",
    "Wenn Sie sich nach einem langen Tag des textaugmentings fragen was es war das Sie da eigentlich augmented haben .text gibt Ihnen Ihren original Text zurück."
   ]
  },
  {
   "cell_type": "code",
   "execution_count": null,
   "metadata": {},
   "outputs": [],
   "source": [
    "Text=augmentext.text\n",
    "print(Text)"
   ]
  },
  {
   "cell_type": "markdown",
   "metadata": {},
   "source": [
    "#### augmentext.get_text(rand)\n",
<<<<<<< Updated upstream
    "Diese Funktion erlaubt dem/der User/in die verschiedenen Files im zuvor bekanntgebenen Ordner durch zu Iterieren. Dies kann sequenziell oder randomisiert geschehen."
=======
    "Diese Funktion erlaubt dem User die verschiedenen Files im zuvor bekanntgebenen Ordner durch zu Iterieren. Dies kann sequenziell oder randomisiert geschehen."
>>>>>>> Stashed changes
   ]
  },
  {
   "cell_type": "code",
   "execution_count": null,
   "metadata": {
    "scrolled": true
   },
   "outputs": [],
   "source": [
    "augmentext.get_text(False)\n",
    "Text=augmentext.text\n",
<<<<<<< Updated upstream
    "print(output(Text))\n",
    "Text"
=======
    "print(output(Text))"
>>>>>>> Stashed changes
   ]
  },
  {
   "cell_type": "markdown",
   "metadata": {},
   "source": [
    "## Die Pipeline\n",
    "#### augmentext.pipeline\n",
    ".pipeline ist ein Listenobjekt das die übergebenen augmentext-Befehle verwaltet."
   ]
  },
  {
   "cell_type": "code",
   "execution_count": null,
   "metadata": {},
   "outputs": [],
   "source": [
    "augmentext.vectorize()\n",
    "augmentext.double_letter(0.2)\n",
    "augmentext.pipeline"
   ]
  },
  {
   "cell_type": "markdown",
   "metadata": {},
   "source": [
    "#### augmentext.run()\n",
    "Gefällt Ihnen Ihre Pipeline dann lässt sie .run auf Ihren Text los!"
   ]
  },
  {
   "cell_type": "code",
   "execution_count": null,
   "metadata": {},
   "outputs": [],
   "source": [
    "augmentext.run()"
   ]
  },
  {
   "cell_type": "markdown",
   "metadata": {},
   "source": [
    "#### augmentext.clear()\n",
    "Ist deine Pipeline zu voll macht sie .clear wieder toll! Löscht alle Einträge aus der Pipeline"
   ]
  },
  {
   "cell_type": "code",
   "execution_count": null,
   "metadata": {},
   "outputs": [],
   "source": [
    "augmentext.clear()\n",
    "augmentext.pipeline"
   ]
  },
  {
   "cell_type": "markdown",
   "metadata": {},
   "source": [
<<<<<<< Updated upstream
    "## Ein Haufen Funktionen\n",
=======
    "## Ein Haufen Functionen\n",
>>>>>>> Stashed changes
    "#### augmentext.double_letter(prob)\n",
    "Diese Funktion erlaubt es dem User in einer zufälligen Art und Weise Doppelbuchstaben in den Text zu integrieren und simuliert so Doublestrokes."
   ]
  },
  {
   "cell_type": "code",
   "execution_count": null,
   "metadata": {},
   "outputs": [],
   "source": [
<<<<<<< Updated upstream
    "augmentext.clear()\n",
    "augmentext.double_letter(0.1)\n",
    "augmentext.run()"
=======
    "augmentext.double_letter(0.2)"
>>>>>>> Stashed changes
   ]
  },
  {
   "cell_type": "markdown",
   "metadata": {},
   "source": [
    "#### augmentext.stem()\n",
    "Durch .stem werden Worte auf ihren Wortstamm reduziert um so erheblich die Corpus-Breite zu verkleiner um auch nicht so potenter Hardware eine Chance zu geben."
   ]
  },
  {
   "cell_type": "code",
   "execution_count": null,
   "metadata": {},
   "outputs": [],
   "source": [
<<<<<<< Updated upstream
    "augmentext.clear()\n",
    "augmentext.stem()\n",
    "augmentext.run()"
=======
    "augmentext.stem()"
>>>>>>> Stashed changes
   ]
  },
  {
   "cell_type": "markdown",
   "metadata": {},
   "source": [
    "#### augmentext.keydist_typo(prob)\n",
    "Durch .keydist_typo werden in Worten Tippfehler induziert basierent auf den Abständen zwischen den Buchstaben einer handelsüblichen Tastatur mit amerikanischen Layout."
   ]
  },
  {
   "cell_type": "code",
   "execution_count": null,
   "metadata": {},
   "outputs": [],
   "source": [
<<<<<<< Updated upstream
    "augmentext.clear()\n",
    "augmentext.keydist_typo(0.01)\n",
    "augmentext.run()"
=======
    "augmentext.keydist_typo(0.01)"
>>>>>>> Stashed changes
   ]
  },
  {
   "cell_type": "markdown",
   "metadata": {},
   "source": [
    "#### augmentext.letter_flip(prob)\n",
    "In dieser Funktion können anhand einer vorher defenierten Wahrscheinlichkeit zwei benachbarte Buchstaben ihre Positionen wechseln."
   ]
  },
  {
   "cell_type": "code",
   "execution_count": null,
   "metadata": {},
   "outputs": [],
   "source": [
<<<<<<< Updated upstream
    "augmentext.clear()\n",
    "augmentext.letter_flip(0.01)\n",
    "augmentext.run()"
=======
    "augmentext.letter_flip(0.01)"
>>>>>>> Stashed changes
   ]
  },
  {
   "cell_type": "markdown",
   "metadata": {},
   "source": [
    "#### augmentext.letter_skip(prob)\n",
    "Nach dem Ausführen der .letter_skip Funktion werden Zeichen aus dem Text entfernt. Aber aufgepasst, wenn hundert-prozentige Wahrscheinlichkeit mitgegeben wird verschwindet der ganze Text."
   ]
  },
  {
   "cell_type": "code",
   "execution_count": null,
   "metadata": {},
   "outputs": [],
   "source": [
    "augmentext.letter_skip(0.91)"
   ]
  },
  {
   "cell_type": "markdown",
   "metadata": {},
   "source": [
    "#### augmentext.space_inserter(prob)\n",
    "Nomen est Omen! Sie wollen Leerzeichen inserten? Kein Problem! .space_inserter schreitet zur Tat. Es kommt auf Sie an "
   ]
  },
  {
   "cell_type": "code",
   "execution_count": null,
   "metadata": {},
   "outputs": [],
   "source": [
<<<<<<< Updated upstream
    "augmentext.space_inserter(1)\n",
    "augmentext.run()"
=======
    "augmentext.space_inserter(1)"
>>>>>>> Stashed changes
   ]
  },
  {
   "cell_type": "markdown",
   "metadata": {},
   "source": [
    "#### augmentext.syn_ant(ant)\n",
    "Zu faul selbst Thesaurus zu befragen? .syn_ant sucht Ihnen entwerder ein Synonym oder ein Antonym aus unserem Lexikon."
   ]
  },
  {
   "cell_type": "code",
   "execution_count": null,
   "metadata": {},
   "outputs": [],
   "source": [
    "augmentext.clear()\n",
    "augmentext.syn_ant()\n",
    "augmentext.run()"
   ]
  },
  {
   "cell_type": "markdown",
   "metadata": {},
   "source": [
    "#### augmentext.vectorize()\n",
    "Sie brauchen eine Zahlenrepresentation für Ihren Text. Kein Problem für augmentext. .vectorize weist eine Zahlenrepresentation zu."
   ]
  },
  {
   "cell_type": "code",
   "execution_count": null,
   "metadata": {},
   "outputs": [],
   "source": [
    "augmentext.clear()\n",
    "augmentext.vectorize()\n",
    "augmentext.run()"
   ]
  },
  {
   "cell_type": "markdown",
   "metadata": {},
   "source": [
    "#### augmentex.random_operations()\n",
    "Sind Sie manchmal unschlüssig wie sie Ihren Text verändern wollen? Kein Problem! .random_operations wählt rein zufällig eine unserer vielen Funktionen aus und fügt sie in die Pipeline ein.  "
   ]
  },
  {
   "cell_type": "code",
   "execution_count": null,
   "metadata": {},
   "outputs": [],
   "source": [
    "augmentext.random_operations()"
   ]
  },
  {
   "cell_type": "markdown",
   "metadata": {},
   "source": [
    "#### augmentext._auto()\n",
    "Augmentation mit alles ohne Scharf!@"
   ]
  },
  {
   "cell_type": "code",
   "execution_count": null,
   "metadata": {},
   "outputs": [],
   "source": [
<<<<<<< Updated upstream
    "augmentext=Pipes('peida')\n",
=======
>>>>>>> Stashed changes
    "augmentext._auto()"
   ]
  },
  {
   "cell_type": "code",
   "execution_count": null,
   "metadata": {},
   "outputs": [],
<<<<<<< Updated upstream
=======
   "source": [
    "from Utilities import lexicon\n",
    "\n",
    "lex_new=lexicon()\n"
   ]
  },
  {
   "cell_type": "code",
   "execution_count": null,
   "metadata": {},
   "outputs": [],
   "source": [
    "sum([True for entry in lex_old.dictionary if entry != []])\n",
    "sum([True for entry in lex_new.dictionary if entry != []])"
   ]
  },
  {
   "cell_type": "code",
   "execution_count": null,
   "metadata": {},
   "outputs": [],
   "source": [
    "lex[745902]"
   ]
  },
  {
   "cell_type": "code",
   "execution_count": null,
   "metadata": {},
   "outputs": [],
   "source": [
    "lex[504583]"
   ]
  },
  {
   "cell_type": "code",
   "execution_count": null,
   "metadata": {},
   "outputs": [],
>>>>>>> Stashed changes
   "source": []
  }
 ],
 "metadata": {
  "kernelspec": {
   "display_name": "Python 3",
   "language": "python",
   "name": "python3"
  },
  "language_info": {
   "codemirror_mode": {
    "name": "ipython",
    "version": 3
   },
   "file_extension": ".py",
   "mimetype": "text/x-python",
   "name": "python",
   "nbconvert_exporter": "python",
   "pygments_lexer": "ipython3",
   "version": "3.7.9"
  }
 },
 "nbformat": 4,
 "nbformat_minor": 4
}
